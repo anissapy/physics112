{
 "cells": [
  {
   "cell_type": "code",
   "execution_count": 1,
   "id": "cb2e00fc",
   "metadata": {
    "deletable": false,
    "editable": false
   },
   "outputs": [],
   "source": [
    "# Initialize Otter\n",
    "import otter\n",
    "grader = otter.Notebook(\"ising_model.ipynb\")"
   ]
  },
  {
   "cell_type": "code",
   "execution_count": 2,
   "id": "443ffb2f-b02a-42d3-9b47-e7321128ff37",
   "metadata": {
    "scrolled": true
   },
   "outputs": [],
   "source": [
    "import numpy as np\n",
    "import matplotlib.pyplot as plt"
   ]
  },
  {
   "cell_type": "markdown",
   "id": "58a8fd69-3ccc-40d2-9b23-d28bebf7d094",
   "metadata": {},
   "source": [
    "# 1-D and 2-D Ising Models"
   ]
  },
  {
   "cell_type": "markdown",
   "id": "3d47c9ac-1f7e-4b02-b2fa-6102231a8db5",
   "metadata": {},
   "source": [
    "| Question  | Points |\n",
    "|---|---|\n",
    "| 1 | 2 |\n",
    "| 2 | 2 |\n",
    "| 3 | 4 |\n",
    "| 4 | 2 |"
   ]
  },
  {
   "cell_type": "markdown",
   "id": "2e0fce88-a5b8-40a0-a8e1-d3d3f9d44524",
   "metadata": {},
   "source": [
    "## 1D Ising Model"
   ]
  },
  {
   "cell_type": "markdown",
   "id": "febb9d69-ff42-45d4-856d-cfc617cb804c",
   "metadata": {},
   "source": [
    "Consider the 1D ising model where we have a *chain* consisting of spins that can take values $\\sigma_i = \\pm 1$, $i$ denoting the location of the spin in the chain. Consider the following Hamiltonian,\n",
    "\n",
    "$$ H = -J\\sum_{i,J} \\sigma_i \\sigma_j $$\n",
    "\n",
    "Where $J$ is the coupling strength between the spins, and note that we ignore any external magnetic field."
   ]
  },
  {
   "cell_type": "markdown",
   "id": "320f00a5-0a85-4577-8218-ba2310cac4ed",
   "metadata": {
    "deletable": false,
    "editable": false
   },
   "source": [
    "### Question 1"
   ]
  },
  {
   "cell_type": "markdown",
   "id": "8e33d794-0f87-47ed-914b-1c73bbd90533",
   "metadata": {
    "deletable": false,
    "editable": false
   },
   "source": [
    "The Hamiltonian defined as the sum of kinetic and potential energy,\n",
    "\n",
    "$$ H = \\text{KE} + \\text{PE} $$\n",
    "\n",
    "Let's construct a function which returns a 1-D chain by creating a random array of size `10` with values of `1` and `-1` for any length `N`. Note you should enforce boundary conditions, i.e the first and last spins are the same.\n",
    "\n",
    "*Hint: Use `np.random.choice`, and use the possible values as `[-1, 1]`. Note `p` is the probability for having a -1 spin value.*"
   ]
  },
  {
   "cell_type": "code",
   "execution_count": 3,
   "id": "42ff8608-5e2f-4627-b8d5-b18ea07d0049",
   "metadata": {
    "tags": [
     "otter_answer_cell"
    ]
   },
   "outputs": [],
   "source": [
    "def ising_chain(N: int, p: float):\n",
    "    chain = np.random.choice([-1,1], size=N-1, p=[p,1-p])\n",
    "    chain = np.append(chain, chain[0])\n",
    "    return chain\n"
   ]
  },
  {
   "cell_type": "markdown",
   "id": "2a6cc673-d5bb-4a2a-a0a0-b9498433c372",
   "metadata": {
    "deletable": false,
    "editable": false
   },
   "source": [
    "Here's a quick visualization of what the 1D Ising Model looks like."
   ]
  },
  {
   "cell_type": "code",
   "execution_count": 4,
   "id": "35abb912-c1e0-4d46-b36a-65a187f06a32",
   "metadata": {
    "deletable": false,
    "editable": false
   },
   "outputs": [
    {
     "data": {
      "image/png": "[encoded data removed]",
      "text/plain": [
       "<Figure size 720x144 with 1 Axes>"
      ]
     },
     "metadata": {
      "needs_background": "light"
     },
     "output_type": "display_data"
    }
   ],
   "source": [
    "N = 10\n",
    "\n",
    "x = np.arange(0, N)\n",
    "model_chain = ising_chain(N, .25)\n",
    "\n",
    "plt.figure(figsize=(10, 2))\n",
    "\n",
    "for index, value in enumerate(model_chain):\n",
    "    if value == 1:\n",
    "        plt.arrow(index, 0, 0, 0.8, head_width=0.2, head_length=0.2, fc='blue', ec='blue')\n",
    "    else:\n",
    "        plt.arrow(index, 1, 0, -0.8, head_width=0.2, head_length=0.2, fc='red', ec='red')\n",
    "\n",
    "plt.title(\"1D Ising Model\")\n",
    "plt.ylim(0, 1)\n",
    "plt.xlim(-0.5, len(x) - 0.5)\n",
    "plt.xticks(x)\n",
    "plt.yticks([])\n",
    "plt.grid(axis='x')\n",
    "plt.show()"
   ]
  },
  {
   "cell_type": "code",
   "execution_count": 5,
   "id": "9dea7c19",
   "metadata": {
    "deletable": false,
    "editable": false
   },
   "outputs": [
    {
     "data": {
      "text/html": [
       "<p><strong><pre style='display: inline;'>q1</pre></strong> passed! 🍀</p>"
      ],
      "text/plain": [
       "q1 results: All test cases passed!"
      ]
     },
     "execution_count": 5,
     "metadata": {},
     "output_type": "execute_result"
    }
   ],
   "source": [
    "grader.check(\"q1\")"
   ]
  },
  {
   "cell_type": "markdown",
   "id": "cf992f97-4160-41a9-a39a-4cff93a5eac0",
   "metadata": {
    "deletable": false,
    "editable": false
   },
   "source": [
    "### Question 2"
   ]
  },
  {
   "cell_type": "markdown",
   "id": "c86da709-a7c3-4a22-bd39-cc333857b82a",
   "metadata": {
    "deletable": false,
    "editable": false
   },
   "source": [
    "Now we want to write a function that finds the energy of the system. Using the Hamiltonian defined in Question 1, make a function that returns the energy for any 1D length Ising chain."
   ]
  },
  {
   "cell_type": "code",
   "execution_count": 8,
   "id": "38c4f9b8-cfc5-48ff-9643-18057ce00b67",
   "metadata": {
    "tags": [
     "otter_answer_cell"
    ]
   },
   "outputs": [],
   "source": [
    "def energy_calc(model_chain: np.ndarray):\n",
    "    J=1\n",
    "    model_chain = np.array(model_chain)\n",
    "    energy = -J * np.sum(model_chain[:-1] * model_chain[1:])\n",
    "    return energy"
   ]
  },
  {
   "cell_type": "code",
   "execution_count": 9,
   "id": "9950ddb0",
   "metadata": {
    "deletable": false,
    "editable": false
   },
   "outputs": [
    {
     "data": {
      "text/html": [
       "<p><strong><pre style='display: inline;'>q2</pre></strong> passed! 🍀</p>"
      ],
      "text/plain": [
       "q2 results: All test cases passed!"
      ]
     },
     "execution_count": 9,
     "metadata": {},
     "output_type": "execute_result"
    }
   ],
   "source": [
    "grader.check(\"q2\")"
   ]
  },
  {
   "cell_type": "markdown",
   "id": "f1bfdc97-65b2-403a-9f2e-3f2781c666ec",
   "metadata": {
    "deletable": false,
    "editable": false
   },
   "source": [
    "### Question 3\n",
    "\n",
    "To simulate the dynamics of spins flipping we will implement the **Metropolis Algorithm** (https://en.wikipedia.org/wiki/Ising_model#Metropolis_algorithm). In short, the algorithm is as follows:\n",
    "\n",
    "1. Choose 1 random spin.\n",
    "2. Flip the spin.\n",
    "3. If the energy is less compared to the original configuration of the system, accept it.\n",
    "4. If new energy is more, only keep with probability $e^{-(1/k_B T)(H_\\nu-H_\\mu)}$, where $\\nu$ = new states and $\\mu$ = present state. **For simplicity let's set $k_B = 1$ so that the probability is only temperature dependent**."
   ]
  },
  {
   "cell_type": "code",
   "execution_count": 13,
   "id": "e7f773b4-b648-42b6-80c2-d4d3b5949bed",
   "metadata": {
    "tags": [
     "otter_answer_cell"
    ]
   },
   "outputs": [],
   "source": [
    "def time_step(model_chain: np.ndarray, T):\n",
    "\n",
    "    # Copy the model chain using np.copy.\n",
    "    new_model_chain = np.copy(model_chain)\n",
    "    \n",
    "    # Pick a random spin position in your array, what should you use from np.random?\n",
    "    random_spin_pos = np.random.randint(len(model_chain))\n",
    "    #new_model_chain[random_spin_pos] *= -1\n",
    "    \n",
    "    # Enforcing periodic boundary conditions implemented for you.\n",
    "    chain_size = len(model_chain)\n",
    "    if (random_spin_pos == chain_size - 1) or (random_spin_pos == 0):\n",
    "        new_model_chain[-1] = -new_model_chain[-1]\n",
    "        new_model_chain[0] = -new_model_chain[0]\n",
    "    else:\n",
    "        new_model_chain[random_spin_pos] = -new_model_chain[random_spin_pos]\n",
    "    \n",
    "   \n",
    "    # Compute the energy difference between the new and old chain.\n",
    "    E_old = energy_calc(model_chain)\n",
    "    E_new = energy_calc(new_model_chain)\n",
    "    energy_difference = E_new - E_old\n",
    "    rand_probability = np.random.rand()\n",
    "\n",
    "    if energy_difference <=0:\n",
    "        return new_model_chain\n",
    "    else:\n",
    "        flip_probability = np.exp(-energy_difference / T)\n",
    "        if flip_probability > rand_probability:\n",
    "            return new_model_chain\n",
    "        else:\n",
    "            return model_chain"
   ]
  },
  {
   "cell_type": "code",
   "execution_count": 14,
   "id": "d6aed6db",
   "metadata": {
    "deletable": false,
    "editable": false
   },
   "outputs": [
    {
     "data": {
      "text/html": [
       "<p><strong style='color: red;'><pre style='display: inline;'>q3</pre> results:</strong></p><p><strong><pre style='display: inline;'>q3 - 1</pre> result:</strong></p><pre>    ❌ Test case failed\n",
       "    Trying:\n",
       "        np.random.seed(112)\n",
       "    Expecting nothing\n",
       "    ok\n",
       "    Trying:\n",
       "        test_chain = ising_chain(10, 0.5)\n",
       "    Expecting nothing\n",
       "    ok\n",
       "    Trying:\n",
       "        bool(np.all(time_step(test_chain, 100) == np.array([1, 1, 1, -1, 1, 1, -1, 1, 1, 1])))\n",
       "    Expecting:\n",
       "        True\n",
       "    **********************************************************************\n",
       "    Line 3, in q3 0\n",
       "    Failed example:\n",
       "        bool(np.all(time_step(test_chain, 100) == np.array([1, 1, 1, -1, 1, 1, -1, 1, 1, 1])))\n",
       "    Expected:\n",
       "        True\n",
       "    Got:\n",
       "        False\n",
       "</pre><p><strong><pre style='display: inline;'>q3 - 2</pre> result:</strong></p><pre>    ❌ Test case failed\n",
       "    Trying:\n",
       "        np.random.seed(57)\n",
       "    Expecting nothing\n",
       "    ok\n",
       "    Trying:\n",
       "        test_chain = ising_chain(10, 0.2)\n",
       "    Expecting nothing\n",
       "    ok\n",
       "    Trying:\n",
       "        bool(np.all(time_step(test_chain, 10) == np.array([-1, 1, -1, 1, 1, 1, 1, 1, 1, -1])))\n",
       "    Expecting:\n",
       "        True\n",
       "    **********************************************************************\n",
       "    Line 3, in q3 1\n",
       "    Failed example:\n",
       "        bool(np.all(time_step(test_chain, 10) == np.array([-1, 1, -1, 1, 1, 1, 1, 1, 1, -1])))\n",
       "    Expected:\n",
       "        True\n",
       "    Got:\n",
       "        False\n",
       "</pre>"
      ],
      "text/plain": [
       "q3 results:\n",
       "    q3 - 1 result:\n",
       "        ❌ Test case failed\n",
       "        Trying:\n",
       "            np.random.seed(112)\n",
       "        Expecting nothing\n",
       "        ok\n",
       "        Trying:\n",
       "            test_chain = ising_chain(10, 0.5)\n",
       "        Expecting nothing\n",
       "        ok\n",
       "        Trying:\n",
       "            bool(np.all(time_step(test_chain, 100) == np.array([1, 1, 1, -1, 1, 1, -1, 1, 1, 1])))\n",
       "        Expecting:\n",
       "            True\n",
       "        **********************************************************************\n",
       "        Line 3, in q3 0\n",
       "        Failed example:\n",
       "            bool(np.all(time_step(test_chain, 100) == np.array([1, 1, 1, -1, 1, 1, -1, 1, 1, 1])))\n",
       "        Expected:\n",
       "            True\n",
       "        Got:\n",
       "            False\n",
       "\n",
       "    q3 - 2 result:\n",
       "        ❌ Test case failed\n",
       "        Trying:\n",
       "            np.random.seed(57)\n",
       "        Expecting nothing\n",
       "        ok\n",
       "        Trying:\n",
       "            test_chain = ising_chain(10, 0.2)\n",
       "        Expecting nothing\n",
       "        ok\n",
       "        Trying:\n",
       "            bool(np.all(time_step(test_chain, 10) == np.array([-1, 1, -1, 1, 1, 1, 1, 1, 1, -1])))\n",
       "        Expecting:\n",
       "            True\n",
       "        **********************************************************************\n",
       "        Line 3, in q3 1\n",
       "        Failed example:\n",
       "            bool(np.all(time_step(test_chain, 10) == np.array([-1, 1, -1, 1, 1, 1, 1, 1, 1, -1])))\n",
       "        Expected:\n",
       "            True\n",
       "        Got:\n",
       "            False"
      ]
     },
     "execution_count": 14,
     "metadata": {},
     "output_type": "execute_result"
    }
   ],
   "source": [
    "grader.check(\"q3\")"
   ]
  },
  {
   "cell_type": "markdown",
   "id": "a1f5d585-f976-4619-acc5-1f799094b0af",
   "metadata": {
    "deletable": false,
    "editable": false
   },
   "source": [
    "<!-- BEGIN QUESTION -->\n",
    "\n",
    "### Question 4\n",
    "\n",
    "The magnetization for the 1D Ising Model is just the average of your spin chain. I.e,\n",
    "\n",
    "$$ M = \\langle \\sigma \\rangle $$\n",
    "\n",
    "where $N$ is your spin chain. Below is an implementation of looking at the magnetization of the system, where initially all the spins are aligned in one direction (`ising_1D = ising_chain(N, 0)`) where the system evolves to some `T` defined in `time_steps`.\n",
    "\n",
    "**Here's the question:**\n",
    "\n",
    "The 1D case of the Ising Model theoretically cannot have any spontaneous magnetization (https://ps.uci.edu/~cyu/p115A/LectureNotes/Lecture18/html_version/lecture18.html). But we can see at $T<1$, it seems that the system is able to maintain some magnetization. Is this still consistent with theory? At what temperature do you see $N=10$ start to go to what we expect?\n",
    "\n",
    "*Hint: Play with the variable `time_steps`, and think about time scales at low temperatures...*"
   ]
  },
  {
   "cell_type": "markdown",
   "id": "89641de1",
   "metadata": {
    "tags": [
     "otter_answer_cell"
    ]
   },
   "source": [
    "No, our simulation of the Ising Model shows some magnetization at low temperatures (T<1) because in a small system (N=10), the fluctuations are large enough that the system might appear to \"maintain\" some magnetization. At temperatures higher than 1, we see that the magnetization goes towards 0, which is consistent with the theory."
   ]
  },
  {
   "cell_type": "code",
   "execution_count": 40,
   "id": "4e7c0c42-a3b3-4235-b812-74c4e6c8d305",
   "metadata": {
    "deletable": false,
    "editable": false
   },
   "outputs": [
    {
     "data": {
      "text/plain": [
       "<matplotlib.legend.Legend at 0x7fc3936d0670>"
      ]
     },
     "execution_count": 40,
     "metadata": {},
     "output_type": "execute_result"
    },
    {
     "data": {
      "image/png": "[encoded data removed]",
      "text/plain": [
       "<Figure size 1500x500 with 2 Axes>"
      ]
     },
     "metadata": {
      "needs_background": "light"
     },
     "output_type": "display_data"
    }
   ],
   "source": [
    "T_array = np.array([.1, .5, 1, 5, 100])\n",
    "N_array = np.array([10]) # Can add more spins if you'd like here\n",
    "\n",
    "f, (ax1, ax2) = plt.subplots(1, 2, dpi = 100, figsize = (15, 5))\n",
    "f.subplots_adjust(wspace = .85)\n",
    "\n",
    "ax1.set_title(\"Magnetization\")\n",
    "ax1.set_xlabel(\"Time Steps\")\n",
    "ax1.set_ylabel(\"$M$\")\n",
    "\n",
    "ax2.set_title(\"Average Magnetization over 10,000 Time Steps\")\n",
    "ax2.set_xlabel(\"Temperature\")\n",
    "ax2.set_ylabel(\"$<M>$\")\n",
    "ax2.grid()\n",
    "\n",
    "time_steps = 100\n",
    "\n",
    "for N in N_array:\n",
    "    \n",
    "    average_magnetization = np.array([])\n",
    "    for T in T_array:\n",
    "        np.random.seed(112)\n",
    "        ising_1D = ising_chain(N, 0)\n",
    "        magnetization = np.array([np.average(ising_1D)])\n",
    "        for i in range(time_steps - 1):\n",
    "            ising_1D = time_step(ising_1D, T)\n",
    "            magnetization = np.append(magnetization, np.average(ising_1D))\n",
    "    \n",
    "        average_magnetization = np.append(average_magnetization, np.average(magnetization))\n",
    "\n",
    "        if N == 10: # Change me to 10, 50, 100.\n",
    "            ax1.plot(np.arange(0, time_steps), magnetization, label = f\"T = {T}, N = {N}\")\n",
    "\n",
    "    ax2.semilogx(T_array, average_magnetization, marker = \"o\", label = f\"N = {N}\")\n",
    "\n",
    "ax1.legend(bbox_to_anchor=(1.1, 1.05))\n",
    "ax2.legend(bbox_to_anchor=(1.1, 1.05))"
   ]
  },
  {
   "cell_type": "markdown",
   "id": "b6f1c2f5-301c-47b7-b6cf-607699237623",
   "metadata": {
    "deletable": false,
    "editable": false
   },
   "source": [
    "<!-- END QUESTION -->\n",
    "\n",
    "# 2D Ising Model (Optional)"
   ]
  },
  {
   "cell_type": "markdown",
   "id": "92f5c2e8-50ef-4a9a-a63e-ceecc02002ec",
   "metadata": {},
   "source": [
    "## Question 5\n",
    "Make the 2D Ising Model"
   ]
  },
  {
   "cell_type": "code",
   "execution_count": 15,
   "id": "183ada71-b8e0-486e-802e-957279686097",
   "metadata": {},
   "outputs": [
    {
     "data": {
      "text/plain": [
       "<matplotlib.colorbar.Colorbar at 0x7fc8a28157f0>"
      ]
     },
     "execution_count": 15,
     "metadata": {},
     "output_type": "execute_result"
    },
    {
     "data": {
      "image/png": "[encoded data removed]",
      "text/plain": [
       "<Figure size 432x288 with 2 Axes>"
      ]
     },
     "metadata": {
      "needs_background": "light"
     },
     "output_type": "display_data"
    }
   ],
   "source": [
    "def ising_model_2D(N):\n",
    "    '''\n",
    "    For simplicity we can just make our ising model into a square\n",
    "    N x N matrix.\n",
    "\n",
    "    There's two ways to go about:\n",
    "    1. Doing a double for loop to initialize your matrix.\n",
    "    2. Using np.random.rand and create your 2D matrix.\n",
    "    '''\n",
    "    matrix = np.random.rand(N,N)\n",
    "    matrix[matrix > .5] = 1\n",
    "    matrix[matrix <= .5] = -1\n",
    "\n",
    "    return matrix\n",
    "\n",
    "plt.figure()\n",
    "plt.xlabel(\"x\")\n",
    "plt.ylabel(\"y\")\n",
    "plt.title(\"2D Ising Model Lattice\")\n",
    "plt.imshow(ising_model_2D(10), cmap = 'inferno')\n",
    "plt.colorbar()"
   ]
  },
  {
   "cell_type": "markdown",
   "id": "b77ac78f-c8bb-4ff0-a2ad-4b7916a39fcf",
   "metadata": {},
   "source": [
    "## Question 6\n",
    "\n",
    "Implementing the Metropolis algorithm in 2D. Slightly more difficult as we have to check the neighbors of each site, and each site could have a maximum of 4 neighbors.\n",
    "\n",
    "- Implement either convolution matrix to calculate energy difference or just look at nearest neighbors."
   ]
  },
  {
   "cell_type": "code",
   "execution_count": 16,
   "id": "5206208b-2e81-4b0a-a68d-6817957ec86b",
   "metadata": {},
   "outputs": [],
   "source": [
    "# @jit\n",
    "def time_step_2D(model_chain, T):\n",
    "\n",
    "    model_size = len(model_chain) - 1 # Note that we assume our model is a square matrix.\n",
    "\n",
    "    x = np.random.randint(len(model_chain))\n",
    "    y = np.random.randint(len(model_chain))\n",
    "    \n",
    "    new_model_chain = np.copy(model_chain)\n",
    "\n",
    "    new_model_chain[x][y] = -new_model_chain[x][y]\n",
    "\n",
    "    E_i = 0\n",
    "    E_f = 0\n",
    "    \n",
    "    if x > 0:\n",
    "        E_i += -model_chain[x][y] * model_chain[x-1][y]\n",
    "        E_f += -new_model_chain[x][y] * model_chain[x-1][y]\n",
    "    if x < (model_size - 1):\n",
    "        E_i += -model_chain[x][y] * model_chain[x+1][y]\n",
    "        E_f += -new_model_chain[x][y] * model_chain[x+1][y]\n",
    "    if y > 0:\n",
    "        E_i += -model_chain[x][y] * model_chain[x][y-1]\n",
    "        E_f += -new_model_chain[x][y] * model_chain[x][y-1]\n",
    "    if y < (model_size - 1):\n",
    "        E_i += -model_chain[x][y] * model_chain[x][y+1]\n",
    "        E_f += -new_model_chain[x][y] * model_chain[x][y+1]\n",
    "\n",
    "    energy_difference = E_f - E_i\n",
    "    # Algorithm\n",
    "    if energy_difference <= 0:\n",
    "        \n",
    "        return new_model_chain\n",
    "    else:\n",
    "        \n",
    "        flip_probability = np.exp(-energy_difference/T)\n",
    "        if flip_probability > np.random.rand():\n",
    "            \n",
    "            return new_model_chain\n",
    "        else:\n",
    "            return model_chain\n",
    "    "
   ]
  },
  {
   "cell_type": "markdown",
   "id": "6c06dcf5-4788-4a9c-98a2-0df39f975d68",
   "metadata": {},
   "source": [
    "Play around with the temperature of the system. What are the characteristics of a spontaneous magnetization in the plot?"
   ]
  },
  {
   "cell_type": "code",
   "execution_count": 17,
   "id": "929c82b3-10bd-462d-a85c-de862b985034",
   "metadata": {},
   "outputs": [],
   "source": [
    "from ipywidgets import interact\n",
    "\n",
    "def display_ising_sequence(images):\n",
    "    def _show(frame=(0, len(images) - 1)):\n",
    "        plt.imshow(images[frame], cmap='coolwarm')\n",
    "    return interact(_show, x = 0)"
   ]
  },
  {
   "cell_type": "code",
   "execution_count": 18,
   "id": "91fe97b2-9d82-4054-9a4d-cf42df3a1204",
   "metadata": {},
   "outputs": [
    {
     "data": {
      "image/png": "[encoded data removed]",
      "text/plain": [
       "<Figure size 432x288 with 1 Axes>"
      ]
     },
     "metadata": {
      "needs_background": "light"
     },
     "output_type": "display_data"
    },
    {
     "data": {
      "application/vnd.jupyter.widget-view+json": {
       "model_id": "28dba2639f01433ab3088aad0eb14a3c",
       "version_major": 2,
       "version_minor": 0
      },
      "text/plain": [
       "interactive(children=(IntSlider(value=1, description='frame', max=2), Output()), _dom_classes=('widget-interac…"
      ]
     },
     "metadata": {},
     "output_type": "display_data"
    },
    {
     "ename": "RuntimeError",
     "evalue": "No mappable was found to use for colorbar creation. First define a mappable such as an image (with imshow) or a contour set (with contourf).",
     "output_type": "error",
     "traceback": [
      "\u001b[0;31m---------------------------------------------------------------------------\u001b[0m",
      "\u001b[0;31mRuntimeError\u001b[0m                              Traceback (most recent call last)",
      "Input \u001b[0;32mIn [18]\u001b[0m, in \u001b[0;36m<cell line: 14>\u001b[0;34m()\u001b[0m\n\u001b[1;32m     11\u001b[0m plt\u001b[38;5;241m.\u001b[39mylabel(\u001b[38;5;124m\"\u001b[39m\u001b[38;5;124my\u001b[39m\u001b[38;5;124m\"\u001b[39m)\n\u001b[1;32m     12\u001b[0m display_ising_sequence(images)\n\u001b[0;32m---> 14\u001b[0m \u001b[43mplt\u001b[49m\u001b[38;5;241;43m.\u001b[39;49m\u001b[43mcolorbar\u001b[49m\u001b[43m(\u001b[49m\u001b[43m)\u001b[49m\n\u001b[1;32m     15\u001b[0m plt\u001b[38;5;241m.\u001b[39mshow()\n",
      "File \u001b[0;32m~/opt/anaconda3/lib/python3.9/site-packages/matplotlib/pyplot.py:2512\u001b[0m, in \u001b[0;36mcolorbar\u001b[0;34m(mappable, cax, ax, **kwargs)\u001b[0m\n\u001b[1;32m   2510\u001b[0m     mappable \u001b[38;5;241m=\u001b[39m gci()\n\u001b[1;32m   2511\u001b[0m     \u001b[38;5;28;01mif\u001b[39;00m mappable \u001b[38;5;129;01mis\u001b[39;00m \u001b[38;5;28;01mNone\u001b[39;00m:\n\u001b[0;32m-> 2512\u001b[0m         \u001b[38;5;28;01mraise\u001b[39;00m \u001b[38;5;167;01mRuntimeError\u001b[39;00m(\u001b[38;5;124m'\u001b[39m\u001b[38;5;124mNo mappable was found to use for colorbar \u001b[39m\u001b[38;5;124m'\u001b[39m\n\u001b[1;32m   2513\u001b[0m                            \u001b[38;5;124m'\u001b[39m\u001b[38;5;124mcreation. First define a mappable such as \u001b[39m\u001b[38;5;124m'\u001b[39m\n\u001b[1;32m   2514\u001b[0m                            \u001b[38;5;124m'\u001b[39m\u001b[38;5;124man image (with imshow) or a contour set (\u001b[39m\u001b[38;5;124m'\u001b[39m\n\u001b[1;32m   2515\u001b[0m                            \u001b[38;5;124m'\u001b[39m\u001b[38;5;124mwith contourf).\u001b[39m\u001b[38;5;124m'\u001b[39m)\n\u001b[1;32m   2516\u001b[0m ret \u001b[38;5;241m=\u001b[39m gcf()\u001b[38;5;241m.\u001b[39mcolorbar(mappable, cax\u001b[38;5;241m=\u001b[39mcax, ax\u001b[38;5;241m=\u001b[39max, \u001b[38;5;241m*\u001b[39m\u001b[38;5;241m*\u001b[39mkwargs)\n\u001b[1;32m   2517\u001b[0m \u001b[38;5;28;01mreturn\u001b[39;00m ret\n",
      "\u001b[0;31mRuntimeError\u001b[0m: No mappable was found to use for colorbar creation. First define a mappable such as an image (with imshow) or a contour set (with contourf)."
     ]
    },
    {
     "data": {
      "text/plain": [
       "<Figure size 432x288 with 0 Axes>"
      ]
     },
     "metadata": {},
     "output_type": "display_data"
    }
   ],
   "source": [
    "images = [ising_model_2D(30)]\n",
    "T = 1 # Temperature of the system\n",
    "# Uncomment\n",
    "for i in range(int(100)):\n",
    "     if i % 50 == 0:\n",
    "        images.append(time_step_2D(images[-1], T).copy())\n",
    "\n",
    "plt.figure()\n",
    "plt.title(f\"2D Ising Model Evolved over {1e6} time steps\")\n",
    "plt.xlabel(\"x\")\n",
    "plt.ylabel(\"y\")\n",
    "display_ising_sequence(images)\n",
    "\n",
    "plt.colorbar()\n",
    "plt.show()"
   ]
  },
  {
   "cell_type": "markdown",
   "id": "42191a09-0de4-412d-95dc-d85075804783",
   "metadata": {},
   "source": [
    "# Question 7\n",
    "\n",
    "Find the critical temperature of the system that we stop seeing spontaneous magnetization."
   ]
  },
  {
   "cell_type": "code",
   "execution_count": 21,
   "id": "07cb3dab-614c-483c-a5cf-b8a8deb94d8e",
   "metadata": {},
   "outputs": [
    {
     "ename": "KeyboardInterrupt",
     "evalue": "",
     "output_type": "error",
     "traceback": [
      "\u001b[0;31m---------------------------------------------------------------------------\u001b[0m",
      "\u001b[0;31mKeyboardInterrupt\u001b[0m                         Traceback (most recent call last)",
      "Input \u001b[0;32mIn [21]\u001b[0m, in \u001b[0;36m<cell line: 7>\u001b[0;34m()\u001b[0m\n\u001b[1;32m      8\u001b[0m     test_model \u001b[38;5;241m=\u001b[39m ising_model_2D(\u001b[38;5;241m10\u001b[39m)\n\u001b[1;32m     10\u001b[0m     \u001b[38;5;28;01mfor\u001b[39;00m j \u001b[38;5;129;01min\u001b[39;00m \u001b[38;5;28mrange\u001b[39m(time_steps):\n\u001b[0;32m---> 11\u001b[0m         test_model \u001b[38;5;241m=\u001b[39m \u001b[43mtime_step_2D\u001b[49m\u001b[43m(\u001b[49m\u001b[43mtest_model\u001b[49m\u001b[43m,\u001b[49m\u001b[43m \u001b[49m\u001b[43mt\u001b[49m\u001b[43m)\u001b[49m\n\u001b[1;32m     12\u001b[0m magnetization \u001b[38;5;241m=\u001b[39m np\u001b[38;5;241m.\u001b[39mappend(magnetization, np\u001b[38;5;241m.\u001b[39mabs(np\u001b[38;5;241m.\u001b[39maverage(test_model)))\n\u001b[1;32m     14\u001b[0m plt\u001b[38;5;241m.\u001b[39mfigure()\n",
      "Input \u001b[0;32mIn [16]\u001b[0m, in \u001b[0;36mtime_step_2D\u001b[0;34m(model_chain, T)\u001b[0m\n\u001b[1;32m      6\u001b[0m x \u001b[38;5;241m=\u001b[39m np\u001b[38;5;241m.\u001b[39mrandom\u001b[38;5;241m.\u001b[39mrandint(\u001b[38;5;28mlen\u001b[39m(model_chain))\n\u001b[1;32m      7\u001b[0m y \u001b[38;5;241m=\u001b[39m np\u001b[38;5;241m.\u001b[39mrandom\u001b[38;5;241m.\u001b[39mrandint(\u001b[38;5;28mlen\u001b[39m(model_chain))\n\u001b[0;32m----> 9\u001b[0m new_model_chain \u001b[38;5;241m=\u001b[39m \u001b[43mnp\u001b[49m\u001b[38;5;241m.\u001b[39mcopy(model_chain)\n\u001b[1;32m     11\u001b[0m new_model_chain[x][y] \u001b[38;5;241m=\u001b[39m \u001b[38;5;241m-\u001b[39mnew_model_chain[x][y]\n\u001b[1;32m     13\u001b[0m E_i \u001b[38;5;241m=\u001b[39m \u001b[38;5;241m0\u001b[39m\n",
      "\u001b[0;31mKeyboardInterrupt\u001b[0m: "
     ]
    }
   ],
   "source": [
    "# Uncomment\n",
    "\n",
    "t_array = np.linspace(1e-3, 4, 30)\n",
    "time_steps = int(1e6)\n",
    "\n",
    "magnetization = np.array([])\n",
    "for t in t_array:\n",
    "    test_model = ising_model_2D(10)\n",
    "    \n",
    "    for j in range(time_steps):\n",
    "        test_model = time_step_2D(test_model, t)\n",
    "magnetization = np.append(magnetization, np.abs(np.average(test_model)))\n",
    "\n",
    "plt.figure()\n",
    "plt.title(\"Average Magnetization at T = 1e6\")\n",
    "plt.xlabel(\"t\")\n",
    "plt.ylabel(\"<M>\")\n",
    "plt.scatter(t_array, magnetization)\n",
    "plt.grid()"
   ]
  },
  {
   "cell_type": "markdown",
   "id": "6cd62116",
   "metadata": {
    "deletable": false,
    "editable": false
   },
   "source": [
    "## Submission\n",
    "\n",
    "Make sure you have run all cells in your notebook in order before running the cell below, so that all images/graphs appear in the output. The cell below will generate a zip file for you to submit. **Please save before exporting!**"
   ]
  },
  {
   "cell_type": "code",
   "execution_count": null,
   "id": "e0e000a0",
   "metadata": {
    "deletable": false,
    "editable": false
   },
   "outputs": [],
   "source": [
    "# Save your notebook first, then run this cell to export your submission.\n",
    "grader.export(run_tests=True)"
   ]
  },
  {
   "cell_type": "markdown",
   "id": "ecd045f6",
   "metadata": {},
   "source": [
    " "
   ]
  }
 ],
 "metadata": {
  "kernelspec": {
   "display_name": "Python 3 (ipykernel)",
   "language": "python",
   "name": "python3"
  },
  "language_info": {
   "codemirror_mode": {
    "name": "ipython",
    "version": 3
   },
   "file_extension": ".py",
   "mimetype": "text/x-python",
   "name": "python",
   "nbconvert_exporter": "python",
   "pygments_lexer": "ipython3",
   "version": "3.9.12"
  },
  "otter": {
   "OK_FORMAT": true,
   "tests": {
    "q1": {
     "name": "q1",
     "points": 1,
     "suites": [
      {
       "cases": [
        {
         "code": ">>> np.random.seed(32)\n>>> bool(np.all(ising_chain(10, 0.25) == np.array([1, 1, 1, 1, 1, 1, -1, 1, 1, 1])))\nTrue",
         "hidden": false,
         "locked": false
        },
        {
         "code": ">>> test_output = ising_chain(10, 0.1)\n>>> type(test_output) == np.ndarray\nTrue",
         "hidden": false,
         "locked": false
        }
       ],
       "scored": true,
       "setup": "",
       "teardown": "",
       "type": "doctest"
      }
     ]
    },
    "q2": {
     "name": "q2",
     "points": 2,
     "suites": [
      {
       "cases": [
        {
         "code": ">>> np.random.seed(112)\n>>> test_chain = ising_chain(10, 0.8)\n>>> bool(energy_calc(test_chain) == 3)\nTrue",
         "hidden": false,
         "locked": false
        },
        {
         "code": ">>> bool(energy_calc([-1, -1, -1]) == -2)\nTrue",
         "hidden": false,
         "locked": false
        }
       ],
       "scored": true,
       "setup": "",
       "teardown": "",
       "type": "doctest"
      }
     ]
    },
    "q3": {
     "name": "q3",
     "points": 4,
     "suites": [
      {
       "cases": [
        {
         "code": ">>> np.random.seed(112)\n>>> test_chain = ising_chain(10, 0.5)\n>>> bool(np.all(time_step(test_chain, 100) == np.array([1, 1, 1, -1, 1, 1, -1, 1, 1, 1])))\nTrue",
         "hidden": false,
         "locked": false
        },
        {
         "code": ">>> np.random.seed(57)\n>>> test_chain = ising_chain(10, 0.2)\n>>> bool(np.all(time_step(test_chain, 10) == np.array([-1, 1, -1, 1, 1, 1, 1, 1, 1, -1])))\nTrue",
         "hidden": false,
         "locked": false
        }
       ],
       "scored": true,
       "setup": "",
       "teardown": "",
       "type": "doctest"
      }
     ]
    }
   }
  }
 },
 "nbformat": 4,
 "nbformat_minor": 5
}
